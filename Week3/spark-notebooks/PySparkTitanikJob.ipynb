{
 "cells": [
  {
   "cell_type": "code",
   "execution_count": 1,
   "metadata": {},
   "outputs": [],
   "source": [
    "from pyspark.sql import SparkSession\n",
    "from pyspark.sql.functions import split,col,avg"
   ]
  },
  {
   "cell_type": "code",
   "execution_count": 2,
   "metadata": {},
   "outputs": [],
   "source": [
    "spark = SparkSession.builder.appName('PySparkTitanikJob').getOrCreate()"
   ]
  },
  {
   "cell_type": "code",
   "execution_count": 3,
   "metadata": {},
   "outputs": [
    {
     "data": {
      "text/html": [
       "\n",
       "            <div>\n",
       "                <p><b>SparkSession - in-memory</b></p>\n",
       "                \n",
       "        <div>\n",
       "            <p><b>SparkContext</b></p>\n",
       "\n",
       "            <p><a href=\"http://unit-409.times.labs.intellij.net:4040\">Spark UI</a></p>\n",
       "\n",
       "            <dl>\n",
       "              <dt>Version</dt>\n",
       "                <dd><code>v2.4.3</code></dd>\n",
       "              <dt>Master</dt>\n",
       "                <dd><code>local[*]</code></dd>\n",
       "              <dt>AppName</dt>\n",
       "                <dd><code>PySparkTitanikJob</code></dd>\n",
       "            </dl>\n",
       "        </div>\n",
       "        \n",
       "            </div>\n",
       "        "
      ],
      "text/plain": [
       "<pyspark.sql.session.SparkSession at 0x7f07b46b9588>"
      ]
     },
     "execution_count": 3,
     "metadata": {},
     "output_type": "execute_result"
    }
   ],
   "source": [
    "spark"
   ]
  },
  {
   "cell_type": "code",
   "execution_count": 9,
   "metadata": {},
   "outputs": [],
   "source": [
    "df = spark.read.option('header','true').csv('train.csv')"
   ]
  },
  {
   "cell_type": "code",
   "execution_count": 10,
   "metadata": {},
   "outputs": [
    {
     "name": "stdout",
     "output_type": "stream",
     "text": [
      "+-----------+--------+------+--------------------+------+---+-----+-----+---------+-------+-----+--------+\n",
      "|PassengerId|Survived|Pclass|                Name|   Sex|Age|SibSp|Parch|   Ticket|   Fare|Cabin|Embarked|\n",
      "+-----------+--------+------+--------------------+------+---+-----+-----+---------+-------+-----+--------+\n",
      "|          1|       0|     3|Braund, Mr. Owen ...|  male| 22|    1|    0|A/5 21171|   7.25| null|       S|\n",
      "|          2|       1|     1|Cumings, Mrs. Joh...|female| 38|    1|    0| PC 17599|71.2833|  C85|       C|\n",
      "+-----------+--------+------+--------------------+------+---+-----+-----+---------+-------+-----+--------+\n",
      "only showing top 2 rows\n",
      "\n"
     ]
    }
   ],
   "source": [
    "df.show(2)"
   ]
  },
  {
   "cell_type": "code",
   "execution_count": 15,
   "metadata": {},
   "outputs": [
    {
     "data": {
      "text/plain": [
       "[('PassengerId', 'string'),\n",
       " ('Survived', 'string'),\n",
       " ('Pclass', 'string'),\n",
       " ('Name', 'string'),\n",
       " ('Sex', 'string'),\n",
       " ('Age', 'string'),\n",
       " ('SibSp', 'string'),\n",
       " ('Parch', 'string'),\n",
       " ('Ticket', 'string'),\n",
       " ('Fare', 'string'),\n",
       " ('Cabin', 'string'),\n",
       " ('Embarked', 'string')]"
      ]
     },
     "execution_count": 15,
     "metadata": {},
     "output_type": "execute_result"
    }
   ],
   "source": [
    "df.dtypes"
   ]
  },
  {
   "cell_type": "code",
   "execution_count": 16,
   "metadata": {},
   "outputs": [
    {
     "name": "stdout",
     "output_type": "stream",
     "text": [
      "+-------+------+------------------+\n",
      "|summary|   Sex|               Age|\n",
      "+-------+------+------------------+\n",
      "|  count|   891|               714|\n",
      "|   mean|  null| 29.69911764705882|\n",
      "| stddev|  null|14.526497332334035|\n",
      "|    min|female|              0.42|\n",
      "|    max|  male|                 9|\n",
      "+-------+------+------------------+\n",
      "\n"
     ]
    }
   ],
   "source": [
    "df.describe(['Sex', 'Age']).show()"
   ]
  },
  {
   "cell_type": "code",
   "execution_count": 17,
   "metadata": {},
   "outputs": [
    {
     "data": {
      "text/plain": [
       "891"
      ]
     },
     "execution_count": 17,
     "metadata": {},
     "output_type": "execute_result"
    }
   ],
   "source": [
    "df.count()"
   ]
  },
  {
   "cell_type": "code",
   "execution_count": 18,
   "metadata": {},
   "outputs": [],
   "source": [
    "df = df.drop('Ticket', 'Name', 'Fare','Cabin')"
   ]
  },
  {
   "cell_type": "code",
   "execution_count": 19,
   "metadata": {},
   "outputs": [
    {
     "name": "stdout",
     "output_type": "stream",
     "text": [
      "+-----------+--------+------+------+----+-----+-----+--------+\n",
      "|PassengerId|Survived|Pclass|   Sex| Age|SibSp|Parch|Embarked|\n",
      "+-----------+--------+------+------+----+-----+-----+--------+\n",
      "|          1|       0|     3|  male|  22|    1|    0|       S|\n",
      "|          2|       1|     1|female|  38|    1|    0|       C|\n",
      "|          3|       1|     3|female|  26|    0|    0|       S|\n",
      "|          4|       1|     1|female|  35|    1|    0|       S|\n",
      "|          5|       0|     3|  male|  35|    0|    0|       S|\n",
      "|          6|       0|     3|  male|null|    0|    0|       Q|\n",
      "|          7|       0|     1|  male|  54|    0|    0|       S|\n",
      "|          8|       0|     3|  male|   2|    3|    1|       S|\n",
      "|          9|       1|     3|female|  27|    0|    2|       S|\n",
      "|         10|       1|     2|female|  14|    1|    0|       C|\n",
      "|         11|       1|     3|female|   4|    1|    1|       S|\n",
      "|         12|       1|     1|female|  58|    0|    0|       S|\n",
      "|         13|       0|     3|  male|  20|    0|    0|       S|\n",
      "|         14|       0|     3|  male|  39|    1|    5|       S|\n",
      "|         15|       0|     3|female|  14|    0|    0|       S|\n",
      "|         16|       1|     2|female|  55|    0|    0|       S|\n",
      "|         17|       0|     3|  male|   2|    4|    1|       Q|\n",
      "|         18|       1|     2|  male|null|    0|    0|       S|\n",
      "|         19|       0|     3|female|  31|    1|    0|       S|\n",
      "|         20|       1|     3|female|null|    0|    0|       C|\n",
      "+-----------+--------+------+------+----+-----+-----+--------+\n",
      "only showing top 20 rows\n",
      "\n"
     ]
    }
   ],
   "source": [
    "df.show()"
   ]
  },
  {
   "cell_type": "code",
   "execution_count": 28,
   "metadata": {},
   "outputs": [],
   "source": [
    "df = df.withColumn('FamilySize', col('SibSp') + col('Parch') + 1)"
   ]
  },
  {
   "cell_type": "code",
   "execution_count": 29,
   "metadata": {},
   "outputs": [
    {
     "name": "stdout",
     "output_type": "stream",
     "text": [
      "+-----------+--------+------+------+---+-----+-----+--------+----------+\n",
      "|PassengerId|Survived|Pclass|   Sex|Age|SibSp|Parch|Embarked|FamilySize|\n",
      "+-----------+--------+------+------+---+-----+-----+--------+----------+\n",
      "|          1|       0|     3|  male| 22|    1|    0|       S|       2.0|\n",
      "|          2|       1|     1|female| 38|    1|    0|       C|       2.0|\n",
      "|          3|       1|     3|female| 26|    0|    0|       S|       1.0|\n",
      "|          4|       1|     1|female| 35|    1|    0|       S|       2.0|\n",
      "+-----------+--------+------+------+---+-----+-----+--------+----------+\n",
      "only showing top 4 rows\n",
      "\n"
     ]
    }
   ],
   "source": [
    "df.show(4)"
   ]
  },
  {
   "cell_type": "code",
   "execution_count": 30,
   "metadata": {},
   "outputs": [
    {
     "data": {
      "text/plain": [
       "177"
      ]
     },
     "execution_count": 30,
     "metadata": {},
     "output_type": "execute_result"
    }
   ],
   "source": [
    "df.where(col('Age').isNull()).count()"
   ]
  },
  {
   "cell_type": "code",
   "execution_count": 33,
   "metadata": {},
   "outputs": [],
   "source": [
    "avg_age = df.select(avg(col('Age'))).collect()[0][0]"
   ]
  },
  {
   "cell_type": "code",
   "execution_count": 36,
   "metadata": {},
   "outputs": [],
   "source": [
    "ndf = df.fillna({'Age': avg_age})"
   ]
  },
  {
   "cell_type": "code",
   "execution_count": 37,
   "metadata": {},
   "outputs": [
    {
     "name": "stdout",
     "output_type": "stream",
     "text": [
      "+-----------+--------+------+------+---+-----+-----+--------+----------+\n",
      "|PassengerId|Survived|Pclass|   Sex|Age|SibSp|Parch|Embarked|FamilySize|\n",
      "+-----------+--------+------+------+---+-----+-----+--------+----------+\n",
      "|          1|       0|     3|  male| 22|    1|    0|       S|       2.0|\n",
      "|          2|       1|     1|female| 38|    1|    0|       C|       2.0|\n",
      "|          3|       1|     3|female| 26|    0|    0|       S|       1.0|\n",
      "|          4|       1|     1|female| 35|    1|    0|       S|       2.0|\n",
      "|          5|       0|     3|  male| 35|    0|    0|       S|       1.0|\n",
      "+-----------+--------+------+------+---+-----+-----+--------+----------+\n",
      "only showing top 5 rows\n",
      "\n"
     ]
    }
   ],
   "source": [
    "ndf.show(5)"
   ]
  },
  {
   "cell_type": "code",
   "execution_count": 43,
   "metadata": {},
   "outputs": [
    {
     "name": "stdout",
     "output_type": "stream",
     "text": [
      "+------+\n",
      "|   Sex|\n",
      "+------+\n",
      "|female|\n",
      "|  male|\n",
      "+------+\n",
      "\n"
     ]
    }
   ],
   "source": [
    "ndf[['Sex']].distinct().show()"
   ]
  },
  {
   "cell_type": "code",
   "execution_count": 44,
   "metadata": {},
   "outputs": [],
   "source": [
    "ndf = ndf.withColumn('M', col('Sex') == 'male')"
   ]
  },
  {
   "cell_type": "code",
   "execution_count": 45,
   "metadata": {},
   "outputs": [],
   "source": [
    "ndf = ndf.withColumn('W', col('Sex') == 'female')"
   ]
  },
  {
   "cell_type": "code",
   "execution_count": 46,
   "metadata": {},
   "outputs": [
    {
     "name": "stdout",
     "output_type": "stream",
     "text": [
      "+-----------+--------+------+------+---+-----+-----+--------+----------+-----+-----+\n",
      "|PassengerId|Survived|Pclass|   Sex|Age|SibSp|Parch|Embarked|FamilySize|    M|    W|\n",
      "+-----------+--------+------+------+---+-----+-----+--------+----------+-----+-----+\n",
      "|          1|       0|     3|  male| 22|    1|    0|       S|       2.0| true|false|\n",
      "|          2|       1|     1|female| 38|    1|    0|       C|       2.0|false| true|\n",
      "+-----------+--------+------+------+---+-----+-----+--------+----------+-----+-----+\n",
      "only showing top 2 rows\n",
      "\n"
     ]
    }
   ],
   "source": [
    "ndf.show(2)"
   ]
  },
  {
   "cell_type": "code",
   "execution_count": 47,
   "metadata": {},
   "outputs": [],
   "source": [
    "ndf = ndf.drop('Sex')"
   ]
  },
  {
   "cell_type": "code",
   "execution_count": 48,
   "metadata": {},
   "outputs": [
    {
     "name": "stdout",
     "output_type": "stream",
     "text": [
      "+-----------+--------+------+---+-----+-----+--------+----------+-----+-----+\n",
      "|PassengerId|Survived|Pclass|Age|SibSp|Parch|Embarked|FamilySize|    M|    W|\n",
      "+-----------+--------+------+---+-----+-----+--------+----------+-----+-----+\n",
      "|          1|       0|     3| 22|    1|    0|       S|       2.0| true|false|\n",
      "|          2|       1|     1| 38|    1|    0|       C|       2.0|false| true|\n",
      "|          3|       1|     3| 26|    0|    0|       S|       1.0|false| true|\n",
      "|          4|       1|     1| 35|    1|    0|       S|       2.0|false| true|\n",
      "|          5|       0|     3| 35|    0|    0|       S|       1.0| true|false|\n",
      "+-----------+--------+------+---+-----+-----+--------+----------+-----+-----+\n",
      "only showing top 5 rows\n",
      "\n"
     ]
    }
   ],
   "source": [
    "ndf.show(5)"
   ]
  },
  {
   "cell_type": "code",
   "execution_count": 51,
   "metadata": {},
   "outputs": [],
   "source": [
    "ndf.coalesce(1).write.option('header','true').csv('clear_data')"
   ]
  },
  {
   "cell_type": "code",
   "execution_count": null,
   "metadata": {},
   "outputs": [],
   "source": []
  }
 ],
 "metadata": {
  "kernelspec": {
   "display_name": "Python 3",
   "language": "python",
   "name": "python3"
  },
  "language_info": {
   "codemirror_mode": {
    "name": "ipython",
    "version": 3
   },
   "file_extension": ".py",
   "mimetype": "text/x-python",
   "name": "python",
   "nbconvert_exporter": "python",
   "pygments_lexer": "ipython3",
   "version": "3.6.5"
  }
 },
 "nbformat": 4,
 "nbformat_minor": 2
}
